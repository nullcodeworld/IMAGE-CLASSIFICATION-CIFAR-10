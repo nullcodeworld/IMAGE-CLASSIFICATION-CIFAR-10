{
  "nbformat": 4,
  "nbformat_minor": 0,
  "metadata": {
    "colab": {
      "name": "CIFAR10DATSET.ipynb",
      "version": "0.3.2",
      "provenance": [],
      "collapsed_sections": []
    },
    "kernelspec": {
      "name": "python3",
      "display_name": "Python 3"
    }
  },
  "cells": [
    {
      "cell_type": "code",
      "metadata": {
        "id": "PxbgYW4YRNsB",
        "colab_type": "code",
        "colab": {}
      },
      "source": [
        "import tensorflow as tf\n",
        "from tensorflow import keras\n",
        "import matplotlib.pyplot as plt\n",
        "import numpy as np"
      ],
      "execution_count": 0,
      "outputs": []
    },
    {
      "cell_type": "code",
      "metadata": {
        "id": "SVBGC4TyRT92",
        "colab_type": "code",
        "outputId": "647b0e01-b136-4bef-a7d0-848600604c3d",
        "colab": {
          "base_uri": "https://localhost:8080/",
          "height": 182
        }
      },
      "source": [
        "from keras.datasets import cifar10\n",
        "\n",
        "(x_train, y_train), (x_test, y_test) = cifar10.load_data()\n",
        "print('x_train shape:', x_train.shape)\n",
        "print(x_train.shape[0], 'train samples')\n",
        "\n",
        "print('y_train shape', y_train.shape)\n",
        "print(x_test.shape[0], 'test samples')\n",
        "\n",
        "print('x_test shape', x_test.shape)\n",
        "print(y_test.shape[0], 'test samples')\n"
      ],
      "execution_count": 4,
      "outputs": [
        {
          "output_type": "stream",
          "text": [
            "Using TensorFlow backend.\n"
          ],
          "name": "stderr"
        },
        {
          "output_type": "stream",
          "text": [
            "Downloading data from https://www.cs.toronto.edu/~kriz/cifar-10-python.tar.gz\n",
            "170500096/170498071 [==============================] - 4s 0us/step\n",
            "x_train shape: (50000, 32, 32, 3)\n",
            "50000 train samples\n",
            "y_train shape (50000, 1)\n",
            "10000 test samples\n",
            "x_test shape (10000, 32, 32, 3)\n",
            "10000 test samples\n"
          ],
          "name": "stdout"
        }
      ]
    },
    {
      "cell_type": "code",
      "metadata": {
        "id": "QY9jn2OhmGdj",
        "colab_type": "code",
        "colab": {}
      },
      "source": [
        "# Declare variables\n",
        "batch_size = 32 \n",
        "# 32 examples in a mini-batch, smaller batch size means more updates in one epoch\n",
        "epochs = 100\n",
        "class_names = [\"airplane\",\"automobile\",\"bird\",\"cat\",\"deer\",\"dog\",\"frog\",\"horse\",\"ship\",\"truck\"]"
      ],
      "execution_count": 0,
      "outputs": []
    },
    {
      "cell_type": "code",
      "metadata": {
        "id": "L0DliTYkRZ6T",
        "colab_type": "code",
        "colab": {}
      },
      "source": [
        "def plot_images(x, y, number_of_images=2):\n",
        "  fig, axes1 = plt.subplots(number_of_images,number_of_images,figsize=(10,10))\n",
        "  for j in range(number_of_images):\n",
        "      for k in range(number_of_images):\n",
        "          i = np.random.choice(range(len(x)))\n",
        "          title = class_names[y[i:i+1][0][0]]\n",
        "          axes1[j][k].title.set_text(title)\n",
        "          axes1[j][k].set_axis_off()\n",
        "          axes1[j][k].imshow(x[i:i+1][0])        "
      ],
      "execution_count": 0,
      "outputs": []
    },
    {
      "cell_type": "code",
      "metadata": {
        "id": "FXgbQWsPmFbK",
        "colab_type": "code",
        "colab": {}
      },
      "source": [
        ""
      ],
      "execution_count": 0,
      "outputs": []
    },
    {
      "cell_type": "code",
      "metadata": {
        "id": "7OjXcEd6RcWj",
        "colab_type": "code",
        "outputId": "30a38611-cb04-4ee5-9041-2c6940d80a1b",
        "colab": {
          "base_uri": "https://localhost:8080/",
          "height": 607
        }
      },
      "source": [
        "plot_images(x_train, y_train)"
      ],
      "execution_count": 7,
      "outputs": [
        {
          "output_type": "display_data",
          "data": {
            "image/png": "[encoded data removed]",
            "text/plain": [
              "<Figure size 720x720 with 4 Axes>"
            ]
          },
          "metadata": {
            "tags": []
          }
        }
      ]
    },
    {
      "cell_type": "code",
      "metadata": {
        "id": "dM4kzlTTRf7M",
        "colab_type": "code",
        "colab": {
          "base_uri": "https://localhost:8080/",
          "height": 110
        },
        "outputId": "30ff6472-2961-4266-92ea-1634cb0433c0"
      },
      "source": [
        "model = tf.keras.Sequential()\n",
        "\n",
        "model.add(tf.keras.layers.Conv2D(32, kernel_size=(3, 3), activation='relu', input_shape=(32, 32, 3)))\n",
        "model.add(tf.keras.layers.Conv2D(64, kernel_size=(3, 3), activation='relu'))\n",
        "model.add(tf.keras.layers.MaxPooling2D(pool_size=(2, 2)))\n",
        "model.add(tf.keras.layers.Dropout(0.25))\n",
        "\n",
        "model.add(tf.keras.layers.Conv2D(128, kernel_size=(3, 3), activation='relu'))\n",
        "model.add(tf.keras.layers.MaxPooling2D(pool_size=(2, 2)))\n",
        "model.add(tf.keras.layers.Conv2D(128, kernel_size=(3, 3), activation='relu'))\n",
        "model.add(tf.keras.layers.MaxPooling2D(pool_size=(2, 2)))\n",
        "model.add(tf.keras.layers.Dropout(0.25))\n",
        "\n",
        "model.add(tf.keras.layers.Flatten())\n",
        "model.add(tf.keras.layers.Dense(1024,activation='relu'))\n",
        "\n",
        "model.add(tf.keras.layers.Dense(512, activation='relu'))\n",
        "\n",
        "model.add(tf.keras.layers.Dense(1024,activation='softmax'))\n",
        "\n",
        "model.add(tf.keras.layers.Dropout(0.5))\n",
        "model.add(tf.keras.layers.Dense(10, activation='softmax'))\n"
      ],
      "execution_count": 8,
      "outputs": [
        {
          "output_type": "stream",
          "text": [
            "WARNING: Logging before flag parsing goes to stderr.\n",
            "W0827 14:21:05.150788 140069362141056 deprecation.py:506] From /usr/local/lib/python3.6/dist-packages/tensorflow/python/ops/init_ops.py:1251: calling VarianceScaling.__init__ (from tensorflow.python.ops.init_ops) with dtype is deprecated and will be removed in a future version.\n",
            "Instructions for updating:\n",
            "Call initializer instance with the dtype argument instead of passing it to the constructor\n"
          ],
          "name": "stderr"
        }
      ]
    },
    {
      "cell_type": "code",
      "metadata": {
        "colab_type": "code",
        "id": "RUIkvFz_pWCO",
        "outputId": "86dba878-9353-41af-9f44-c176b8a7fbed",
        "colab": {
          "base_uri": "https://localhost:8080/",
          "height": 1000
        }
      },
      "source": [
        "# Compile the model\n",
        "model.compile(loss='categorical_crossentropy',\n",
        "              optimizer=tf.keras.optimizers.Adam(lr=0.0001, decay=1e-6),\n",
        "              metrics=['accuracy'])\n",
        "\n",
        "# Train the model\n",
        "model.fit(x_train / 255.0, tf.keras.utils.to_categorical(y_train),\n",
        "          batch_size=batch_size,\n",
        "          shuffle=True,\n",
        "          epochs=25,\n",
        "          validation_data=(x_test / 255.0, tf.keras.utils.to_categorical(y_test))\n",
        "          )\n",
        "\n",
        "# Evaluate the model\n",
        "scores = model.evaluate(x_test / 255.0, tf.keras.utils.to_categorical(y_test))\n",
        "\n",
        "print('Loss: %.3f' % scores[0])\n",
        "print('Accuracy: %.3f' % scores[1])"
      ],
      "execution_count": 9,
      "outputs": [
        {
          "output_type": "stream",
          "text": [
            "Train on 50000 samples, validate on 10000 samples\n",
            "Epoch 1/25\n",
            "50000/50000 [==============================] - 336s 7ms/sample - loss: 2.2612 - acc: 0.1424 - val_loss: 2.2269 - val_acc: 0.1994\n",
            "Epoch 2/25\n",
            "50000/50000 [==============================] - 330s 7ms/sample - loss: 2.2119 - acc: 0.1560 - val_loss: 2.1725 - val_acc: 0.2266\n",
            "Epoch 3/25\n",
            "50000/50000 [==============================] - 332s 7ms/sample - loss: 2.1778 - acc: 0.1626 - val_loss: 2.1355 - val_acc: 0.2221\n",
            "Epoch 4/25\n",
            "50000/50000 [==============================] - 337s 7ms/sample - loss: 2.1504 - acc: 0.1714 - val_loss: 2.0933 - val_acc: 0.2408\n",
            "Epoch 5/25\n",
            "50000/50000 [==============================] - 336s 7ms/sample - loss: 2.1225 - acc: 0.1818 - val_loss: 2.0697 - val_acc: 0.2596\n",
            "Epoch 6/25\n",
            "50000/50000 [==============================] - 334s 7ms/sample - loss: 2.0965 - acc: 0.1922 - val_loss: 2.0251 - val_acc: 0.2947\n",
            "Epoch 7/25\n",
            "50000/50000 [==============================] - 336s 7ms/sample - loss: 2.0763 - acc: 0.2025 - val_loss: 2.0014 - val_acc: 0.2888\n",
            "Epoch 8/25\n",
            "50000/50000 [==============================] - 338s 7ms/sample - loss: 2.0511 - acc: 0.2097 - val_loss: 1.9560 - val_acc: 0.3255\n",
            "Epoch 9/25\n",
            "50000/50000 [==============================] - 341s 7ms/sample - loss: 2.0252 - acc: 0.2255 - val_loss: 1.9294 - val_acc: 0.3500\n",
            "Epoch 10/25\n",
            "50000/50000 [==============================] - 339s 7ms/sample - loss: 1.9971 - acc: 0.2497 - val_loss: 1.8993 - val_acc: 0.3792\n",
            "Epoch 11/25\n",
            "50000/50000 [==============================] - 335s 7ms/sample - loss: 1.9706 - acc: 0.2650 - val_loss: 1.8638 - val_acc: 0.3883\n",
            "Epoch 12/25\n",
            "50000/50000 [==============================] - 331s 7ms/sample - loss: 1.9430 - acc: 0.2778 - val_loss: 1.8328 - val_acc: 0.4262\n",
            "Epoch 13/25\n",
            "50000/50000 [==============================] - 331s 7ms/sample - loss: 1.9080 - acc: 0.2910 - val_loss: 1.7933 - val_acc: 0.4631\n",
            "Epoch 14/25\n",
            "50000/50000 [==============================] - 331s 7ms/sample - loss: 1.8785 - acc: 0.3025 - val_loss: 1.7533 - val_acc: 0.4826\n",
            "Epoch 15/25\n",
            "50000/50000 [==============================] - 331s 7ms/sample - loss: 1.8477 - acc: 0.3111 - val_loss: 1.7144 - val_acc: 0.5002\n",
            "Epoch 16/25\n",
            "50000/50000 [==============================] - 339s 7ms/sample - loss: 1.8108 - acc: 0.3236 - val_loss: 1.6975 - val_acc: 0.5135\n",
            "Epoch 17/25\n",
            "50000/50000 [==============================] - 337s 7ms/sample - loss: 1.7890 - acc: 0.3322 - val_loss: 1.6607 - val_acc: 0.5329\n",
            "Epoch 18/25\n",
            "50000/50000 [==============================] - 341s 7ms/sample - loss: 1.7569 - acc: 0.3480 - val_loss: 1.6151 - val_acc: 0.5627\n",
            "Epoch 19/25\n",
            "50000/50000 [==============================] - 339s 7ms/sample - loss: 1.7313 - acc: 0.3590 - val_loss: 1.5865 - val_acc: 0.5830\n",
            "Epoch 20/25\n",
            "50000/50000 [==============================] - 339s 7ms/sample - loss: 1.7084 - acc: 0.3757 - val_loss: 1.5460 - val_acc: 0.5873\n",
            "Epoch 21/25\n",
            "50000/50000 [==============================] - 339s 7ms/sample - loss: 1.6847 - acc: 0.3828 - val_loss: 1.5136 - val_acc: 0.6088\n",
            "Epoch 22/25\n",
            "50000/50000 [==============================] - 339s 7ms/sample - loss: 1.6559 - acc: 0.3968 - val_loss: 1.4969 - val_acc: 0.6085\n",
            "Epoch 23/25\n",
            "50000/50000 [==============================] - 337s 7ms/sample - loss: 1.6280 - acc: 0.4052 - val_loss: 1.4509 - val_acc: 0.6361\n",
            "Epoch 24/25\n",
            "50000/50000 [==============================] - 337s 7ms/sample - loss: 1.6094 - acc: 0.4102 - val_loss: 1.4234 - val_acc: 0.6347\n",
            "Epoch 25/25\n",
            "50000/50000 [==============================] - 336s 7ms/sample - loss: 1.5792 - acc: 0.4275 - val_loss: 1.3807 - val_acc: 0.6475\n",
            "10000/10000 [==============================] - 15s 2ms/sample - loss: 1.3807 - acc: 0.6475\n",
            "Loss: 1.381\n",
            "Accuracy: 0.647\n"
          ],
          "name": "stdout"
        }
      ]
    },
    {
      "cell_type": "code",
      "metadata": {
        "id": "9aYPlS7_hSWG",
        "colab_type": "code",
        "colab": {}
      },
      "source": [
        ""
      ],
      "execution_count": 0,
      "outputs": []
    }
  ]
}